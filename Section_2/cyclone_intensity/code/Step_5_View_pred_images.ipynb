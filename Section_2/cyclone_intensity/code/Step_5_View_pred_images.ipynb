{
 "cells": [
  {
   "cell_type": "code",
   "execution_count": null,
   "id": "25ad1693-da4a-4a5b-9097-3cde860795ac",
   "metadata": {},
   "outputs": [],
   "source": [
    "show_img = 5\n",
    "save_fig = False\n",
    "\n",
    "import numpy as np\n",
    "import matplotlib.pyplot as plt\n",
    "import random\n",
    "from keras.models import load_model"
   ]
  },
  {
   "cell_type": "code",
   "execution_count": null,
   "id": "e7410fad-9db0-4b98-a265-1a785a2addb3",
   "metadata": {},
   "outputs": [],
   "source": [
    "def standardize_data(train_images):\n",
    "    train_images[train_images < 0] = 0\n",
    "    st_dev = np.std(train_images)\n",
    "    mean = np.mean(train_images)\n",
    "    train_images = np.divide(np.subtract(train_images, mean), st_dev)\n",
    "    return train_images"
   ]
  },
  {
   "cell_type": "code",
   "execution_count": null,
   "id": "faf4b99b-2b37-4e5f-9f57-934703b0dc90",
   "metadata": {},
   "outputs": [],
   "source": [
    "images = np.load('images.npy')\n",
    "labels = np.load('labels.npy')\n",
    "\n",
    "if show_img > images.shape[0]:\n",
    "    raise ValueError(\"Exceed image numbers!!\")\n",
    "\n",
    "\n",
    "\n",
    "model = load_model('./result3/5_fold_model.h5')  # load your .h5 file\n",
    "print(\"Load modelsuccess...\")\n",
    "\n",
    "# Predict\n",
    "pred = model.predict(standardize_data(images))\n",
    "flat_pred = pred.flatten()\n",
    "\n",
    "\n",
    "for x in range(show_img):\n",
    "    i = random.randint(0, images.shape[0])\n",
    "    image = np.reshape(images[i], (images[i].shape[0], images[i].shape[1]))\n",
    "    plt.figure(x+1)\n",
    "    plt.imshow(image, cmap='binary')\n",
    "    title = 'Image #' + str(i) + '   ' + str(labels[i]) + ' knots pred:' + str(round(flat_pred[i],2)) + ' knots'\n",
    "    plt.title(title)\n",
    "\n",
    "    if save_fig:\n",
    "        plt.savefig('Image' + str(i) + '_pred_knots_.png')\n",
    "  \n",
    "    plt.show()"
   ]
  }
 ],
 "metadata": {
  "kernelspec": {
   "display_name": "Python 3 (ipykernel)",
   "language": "python",
   "name": "python3"
  },
  "language_info": {
   "codemirror_mode": {
    "name": "ipython",
    "version": 3
   },
   "file_extension": ".py",
   "mimetype": "text/x-python",
   "name": "python",
   "nbconvert_exporter": "python",
   "pygments_lexer": "ipython3",
   "version": "3.8.18"
  }
 },
 "nbformat": 4,
 "nbformat_minor": 5
}
