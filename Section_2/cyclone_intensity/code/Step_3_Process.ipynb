{
 "cells": [
  {
   "cell_type": "code",
   "execution_count": 1,
   "id": "bf89a2f2-ed3c-4c76-a37c-e90b5f611507",
   "metadata": {},
   "outputs": [],
   "source": [
    "import pandas as pd\n",
    "import numpy as np\n",
    "import os\n",
    "import netCDF4"
   ]
  },
  {
   "cell_type": "code",
   "execution_count": 4,
   "id": "6e6c79ef-9088-4fca-981c-e1e37a73eab2",
   "metadata": {},
   "outputs": [
    {
     "name": "stdout",
     "output_type": "stream",
     "text": [
      "Could not find label for image of ONE at date 20160608 and time 1200\n",
      "Could not find label for image of PALI at date 20160115 and time 600\n",
      "Could not find label for image of PALI at date 20160115 and time 1200\n",
      "Could not find label for image of PALI at date 20160115 and time 0\n",
      "Processing Samples... 100.0% (994 of 994)\n",
      "Saving NumPy arrays...\n",
      "\n",
      "NumPy files saved. Processing complete.\n"
     ]
    }
   ],
   "source": [
    "best_track_data = pd.read_csv('/Users/opopligher1996/workspace/master/BusinessIntelligenceTechniquesAndApplications_DSME6756/project/DSME6756_Group_Project/Section_2/cyclone_intensity/dataset/besttrack.csv')\n",
    "\n",
    "side_length = 50\n",
    "\n",
    "images = []\n",
    "labels = []\n",
    "\n",
    "# Gets list of names of files, each file containing a satellite image\n",
    "files = os.listdir('/Users/opopligher1996/workspace/master/BusinessIntelligenceTechniquesAndApplications_DSME6756/project/DSME6756_Group_Project/Section_2/cyclone_intensity/code/Satellite Imagery/')\n",
    "num_files = len(files)\n",
    "\n",
    "for i in range(len(files)):\n",
    "    # Get IR satellite image from the file\n",
    "    raw_data = netCDF4.Dataset('/Users/opopligher1996/workspace/master/BusinessIntelligenceTechniquesAndApplications_DSME6756/project/DSME6756_Group_Project/Section_2/cyclone_intensity/code/Satellite Imagery/' + files[i])\n",
    "    ir_data = raw_data.variables['IRWIN'][0]\n",
    "\n",
    "    # 'Crop' the image by removing north, south, east, and west edges\n",
    "    south_bound = (ir_data.shape[0] - side_length) // 2\n",
    "    north_bound = south_bound + side_length\n",
    "    cropped_ir_data = ir_data[south_bound:north_bound]\n",
    "    west_bound = (ir_data.shape[1] - side_length) // 2\n",
    "    east_bound = side_length\n",
    "    cropped_ir_data = np.delete(cropped_ir_data, np.s_[:west_bound], axis=1)\n",
    "    cropped_ir_data = np.delete(cropped_ir_data, np.s_[east_bound:], axis=1)\n",
    "\n",
    "    # Get storm name, date, and time of the hurricane from the image's file name\n",
    "    file_name = files[i]\n",
    "    file_name = file_name.split('.')\n",
    "    storm_name = file_name[1]\n",
    "    date = int(file_name[2] + file_name[3] + file_name[4])\n",
    "    time = int(file_name[5])\n",
    "\n",
    "    # Filter the best track dataset to find the row that matches the name, date, and time of this hurricane image\n",
    "    matching_best_track_data = best_track_data.loc[\n",
    "        (best_track_data.storm_name == storm_name) &\n",
    "        (best_track_data.fulldate == date) &\n",
    "        (best_track_data.time == time)\n",
    "    ]\n",
    "\n",
    "    # Get the wind speed from the row that matches the name, date, and time of this hurricane image\n",
    "    try:\n",
    "        wind_speed = matching_best_track_data.max_sus_wind_speed.reset_index(drop=True)[0]\n",
    "    except Exception:\n",
    "        print('\\rCould not find label for image of ' + storm_name + ' at date ' + str(date) + ' and time ' + str(time), end='\\n')\n",
    "        continue  # Skip to the next hurricane image if the a wind speed could not be found for this hurricane image\n",
    "\n",
    "    # Add the image and wind speed to these lists. This way, the lists of images and labels always line up. The first\n",
    "    # hurricane image in the images list is associated with the first wind speed in the labels list.\n",
    "    images.append(cropped_ir_data)\n",
    "    labels.append(wind_speed)\n",
    "\n",
    "    raw_data.close()\n",
    "\n",
    "    print('\\rProcessing Samples... ' + str(round(((i + 1) / num_files) * 100, 1)) + '% (' + str(i + 1) + ' of ' + str(\n",
    "        num_files) + ')', end='')\n",
    "\n",
    "print('\\nSaving NumPy arrays...')\n",
    "\n",
    "# Turn the list of images and labels into NumPy arrays\n",
    "images = np.array(images)\n",
    "labels = np.array(labels)\n",
    "\n",
    "# Add a fourth dimension to the images array. This is one since we only have one color channel: grayscale. The fourth\n",
    "# dimension would typically be 3 if we were working with color images\n",
    "images = images.reshape((images.shape[0], side_length, side_length, 1))\n",
    "\n",
    "# Save the NumPy arrays for use in model.py, where the neural network is trained and validated on this data\n",
    "np.save('images.npy', images)\n",
    "np.save('labels.npy', labels)\n",
    "\n",
    "print(\"\\nNumPy files saved. Processing complete.\")"
   ]
  }
 ],
 "metadata": {
  "kernelspec": {
   "display_name": "Python 3 (ipykernel)",
   "language": "python",
   "name": "python3"
  },
  "language_info": {
   "codemirror_mode": {
    "name": "ipython",
    "version": 3
   },
   "file_extension": ".py",
   "mimetype": "text/x-python",
   "name": "python",
   "nbconvert_exporter": "python",
   "pygments_lexer": "ipython3",
   "version": "3.8.18"
  }
 },
 "nbformat": 4,
 "nbformat_minor": 5
}
